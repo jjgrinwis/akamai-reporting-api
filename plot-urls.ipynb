{
 "cells": [
  {
   "cell_type": "markdown",
   "metadata": {},
   "source": [
    "Our jupyter notebook example to plot some bars using bytes served by Akamai origin and edge."
   ]
  },
  {
   "cell_type": "code",
   "execution_count": 165,
   "metadata": {},
   "outputs": [],
   "source": [
    "import pandas as pd\n",
    "import glob\n",
    "import re\n",
    "\n",
    "# lookup all our urls files from results dir\n",
    "url_files = glob.glob('results/urls*')\n",
    "\n",
    "# a list to be used for our temp. dataframes\n",
    "df_list= []\n",
    "\n",
    "for file in url_files:\n",
    "    temp_df = pd.read_csv(file)\n",
    "\n",
    "    # our non greedy regex to get date from our url files with format\n",
    "    # file format: urls-2021-11-12.csv\n",
    "    file_date = re.search('.*?-(.*).csv',file).group(1)\n",
    "\n",
    "    # convert to date without time so 2021-11-12 format\n",
    "    temp_df['date'] = pd.to_datetime(file_date).date()\n",
    "\n",
    "    # append dataframe to our temp. list\n",
    "    df_list.append(temp_df)\n",
    "\n",
    "# concatenate all our dataframes to a single dataframe using our temp. df list\n",
    "# we can ignore the index as it has no meaningfull value so new index will be created\n",
    "df = pd.concat(df_list, ignore_index=True)"
   ]
  },
  {
   "cell_type": "markdown",
   "metadata": {},
   "source": [
    "now we have our concatinated dataframe from all files, lets creat some plots. First try plot the edge and origin bytes per day."
   ]
  },
  {
   "cell_type": "code",
   "execution_count": 169,
   "metadata": {},
   "outputs": [
    {
     "data": {
      "text/html": [
       "<div>\n",
       "<style scoped>\n",
       "    .dataframe tbody tr th:only-of-type {\n",
       "        vertical-align: middle;\n",
       "    }\n",
       "\n",
       "    .dataframe tbody tr th {\n",
       "        vertical-align: top;\n",
       "    }\n",
       "\n",
       "    .dataframe thead th {\n",
       "        text-align: right;\n",
       "    }\n",
       "</style>\n",
       "<table border=\"1\" class=\"dataframe\">\n",
       "  <thead>\n",
       "    <tr style=\"text-align: right;\">\n",
       "      <th></th>\n",
       "      <th>allEdgeBytes</th>\n",
       "      <th>allOriginBytes</th>\n",
       "    </tr>\n",
       "    <tr>\n",
       "      <th>date</th>\n",
       "      <th></th>\n",
       "      <th></th>\n",
       "    </tr>\n",
       "  </thead>\n",
       "  <tbody>\n",
       "    <tr>\n",
       "      <th>2021-11-12</th>\n",
       "      <td>832.0</td>\n",
       "      <td>1165.0</td>\n",
       "    </tr>\n",
       "    <tr>\n",
       "      <th>2021-11-15</th>\n",
       "      <td>1050.0</td>\n",
       "      <td>1477.0</td>\n",
       "    </tr>\n",
       "    <tr>\n",
       "      <th>2021-11-17</th>\n",
       "      <td>749.0</td>\n",
       "      <td>1068.0</td>\n",
       "    </tr>\n",
       "    <tr>\n",
       "      <th>2021-11-19</th>\n",
       "      <td>855.0</td>\n",
       "      <td>1210.0</td>\n",
       "    </tr>\n",
       "    <tr>\n",
       "      <th>2021-11-20</th>\n",
       "      <td>862.0</td>\n",
       "      <td>1219.0</td>\n",
       "    </tr>\n",
       "  </tbody>\n",
       "</table>\n",
       "</div>"
      ],
      "text/plain": [
       "            allEdgeBytes  allOriginBytes\n",
       "date                                    \n",
       "2021-11-12         832.0          1165.0\n",
       "2021-11-15        1050.0          1477.0\n",
       "2021-11-17         749.0          1068.0\n",
       "2021-11-19         855.0          1210.0\n",
       "2021-11-20         862.0          1219.0"
      ]
     },
     "execution_count": 169,
     "metadata": {},
     "output_type": "execute_result"
    }
   ],
   "source": [
    "# new_df = df.sort_values(['date', 'allOriginBytes'], ascending=[True,False]).groupby('date').head(5)\n",
    "# new_series = df.groupby('date')['allOriginBytes'].sum()\n",
    "# let's drop the offloads percentage as we're getting the sum per date so percentage is useless\n",
    "if 'allBytesOffload' in df.columns:\n",
    "    df.drop(columns='allBytesOffload', inplace=True)\n",
    "\n",
    "# calculate the sum off all columns grouped by date\n",
    "# and convert to GB=3, TB=4 etc.\n",
    "FORMAT = 'GB'\n",
    "data_size = {\n",
    "    \"MB\": 2,\n",
    "    \"GB\": 3,\n",
    "    \"TB\": 4\n",
    "}\n",
    "\n",
    "# create new dataframe grouped by data, sum the table and convert to FORMAT\n",
    "sum_df = df.groupby('date').sum().div(1024.0**data_size[FORMAT]).round(0)\n",
    "sum_df.head(5)"
   ]
  },
  {
   "cell_type": "code",
   "execution_count": 174,
   "metadata": {},
   "outputs": [
    {
     "data": {
      "text/plain": [
       "Text(0, 0.5, 'GB')"
      ]
     },
     "execution_count": 174,
     "metadata": {},
     "output_type": "execute_result"
    },
    {
     "data": {
      "image/png": "[encoded data removed]",
      "text/plain": [
       "<Figure size 432x288 with 1 Axes>"
      ]
     },
     "metadata": {
      "needs_background": "light"
     },
     "output_type": "display_data"
    }
   ],
   "source": [
    "# let's convert columns to TB \n",
    "sum_df.plot(kind='bar', title='sum of all Edge/OriginBytes per day').set_ylabel(FORMAT)\n"
   ]
  }
 ],
 "metadata": {
  "interpreter": {
   "hash": "c9cba118b6904f893ca45e8721cf54ea5f2fc7df744fcf790381eaef4ca26f01"
  },
  "kernelspec": {
   "display_name": "Python 3.9.7 64-bit ('venv': venv)",
   "language": "python",
   "name": "python3"
  },
  "language_info": {
   "codemirror_mode": {
    "name": "ipython",
    "version": 3
   },
   "file_extension": ".py",
   "mimetype": "text/x-python",
   "name": "python",
   "nbconvert_exporter": "python",
   "pygments_lexer": "ipython3",
   "version": "3.9.7"
  },
  "orig_nbformat": 4
 },
 "nbformat": 4,
 "nbformat_minor": 2
}
